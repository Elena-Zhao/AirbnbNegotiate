{
 "cells": [
  {
   "cell_type": "code",
   "execution_count": 29,
   "metadata": {
    "collapsed": false
   },
   "outputs": [],
   "source": [
    "import urllib2\n",
    "import time\n",
    "import json\n",
    "import pandas as pd\n",
    "import random\n",
    "import numpy as np\n",
    "import matplotlib.pyplot as plt\n",
    "from collections import defaultdict\n",
    "\n",
    "%matplotlib inline  \n"
   ]
  },
  {
   "cell_type": "code",
   "execution_count": 59,
   "metadata": {
    "collapsed": false
   },
   "outputs": [
    {
     "data": {
      "text/html": [
       "<div>\n",
       "<table border=\"1\" class=\"dataframe\">\n",
       "  <thead>\n",
       "    <tr style=\"text-align: right;\">\n",
       "      <th></th>\n",
       "      <th>10057577.0</th>\n",
       "      <th>10102023.0</th>\n",
       "      <th>10122428.0</th>\n",
       "      <th>10133274.0</th>\n",
       "      <th>10212453.0</th>\n",
       "      <th>10334770.0</th>\n",
       "      <th>10418854.0</th>\n",
       "      <th>10527364.0</th>\n",
       "      <th>10552237.0</th>\n",
       "      <th>10627716.0</th>\n",
       "      <th>...</th>\n",
       "      <th>9790421.0</th>\n",
       "      <th>9826392.0</th>\n",
       "      <th>9857572.0</th>\n",
       "      <th>9885963.0</th>\n",
       "      <th>9887215.0</th>\n",
       "      <th>990668.0</th>\n",
       "      <th>9917358.0</th>\n",
       "      <th>9926796.0</th>\n",
       "      <th>9933886.0</th>\n",
       "      <th>9972882.0</th>\n",
       "    </tr>\n",
       "  </thead>\n",
       "  <tbody>\n",
       "    <tr>\n",
       "      <th>calendar_months</th>\n",
       "      <td>[{u'name': u'March', u'condition_ranges': [{u'...</td>\n",
       "      <td>[{u'name': u'March', u'condition_ranges': [{u'...</td>\n",
       "      <td>[{u'name': u'March', u'condition_ranges': [{u'...</td>\n",
       "      <td>[{u'name': u'March', u'condition_ranges': [{u'...</td>\n",
       "      <td>[{u'name': u'March', u'condition_ranges': [{u'...</td>\n",
       "      <td>[{u'name': u'March', u'condition_ranges': [{u'...</td>\n",
       "      <td>[{u'name': u'March', u'condition_ranges': [{u'...</td>\n",
       "      <td>[{u'name': u'March', u'condition_ranges': [{u'...</td>\n",
       "      <td>[{u'name': u'March', u'condition_ranges': [{u'...</td>\n",
       "      <td>[{u'name': u'March', u'condition_ranges': [{u'...</td>\n",
       "      <td>...</td>\n",
       "      <td>[{u'name': u'March', u'condition_ranges': [{u'...</td>\n",
       "      <td>[{u'name': u'March', u'condition_ranges': [{u'...</td>\n",
       "      <td>[{u'name': u'March', u'condition_ranges': [{u'...</td>\n",
       "      <td>[{u'name': u'March', u'condition_ranges': [{u'...</td>\n",
       "      <td>[{u'name': u'March', u'condition_ranges': [{u'...</td>\n",
       "      <td>[{u'name': u'March', u'condition_ranges': [{u'...</td>\n",
       "      <td>[{u'name': u'March', u'condition_ranges': [{u'...</td>\n",
       "      <td>[{u'name': u'March', u'condition_ranges': [{u'...</td>\n",
       "      <td>[{u'name': u'March', u'condition_ranges': [{u'...</td>\n",
       "      <td>[{u'name': u'March', u'condition_ranges': [{u'...</td>\n",
       "    </tr>\n",
       "    <tr>\n",
       "      <th>metadata</th>\n",
       "      <td>{}</td>\n",
       "      <td>{}</td>\n",
       "      <td>{}</td>\n",
       "      <td>{}</td>\n",
       "      <td>{}</td>\n",
       "      <td>{}</td>\n",
       "      <td>{}</td>\n",
       "      <td>{}</td>\n",
       "      <td>{}</td>\n",
       "      <td>{}</td>\n",
       "      <td>...</td>\n",
       "      <td>{}</td>\n",
       "      <td>{}</td>\n",
       "      <td>{}</td>\n",
       "      <td>{}</td>\n",
       "      <td>{}</td>\n",
       "      <td>{}</td>\n",
       "      <td>{}</td>\n",
       "      <td>{}</td>\n",
       "      <td>{}</td>\n",
       "      <td>{}</td>\n",
       "    </tr>\n",
       "  </tbody>\n",
       "</table>\n",
       "<p>2 rows × 264 columns</p>\n",
       "</div>"
      ],
      "text/plain": [
       "                                                          10057577  \\\n",
       "calendar_months  [{u'name': u'March', u'condition_ranges': [{u'...   \n",
       "metadata                                                        {}   \n",
       "\n",
       "                                                          10102023  \\\n",
       "calendar_months  [{u'name': u'March', u'condition_ranges': [{u'...   \n",
       "metadata                                                        {}   \n",
       "\n",
       "                                                          10122428  \\\n",
       "calendar_months  [{u'name': u'March', u'condition_ranges': [{u'...   \n",
       "metadata                                                        {}   \n",
       "\n",
       "                                                          10133274  \\\n",
       "calendar_months  [{u'name': u'March', u'condition_ranges': [{u'...   \n",
       "metadata                                                        {}   \n",
       "\n",
       "                                                          10212453  \\\n",
       "calendar_months  [{u'name': u'March', u'condition_ranges': [{u'...   \n",
       "metadata                                                        {}   \n",
       "\n",
       "                                                          10334770  \\\n",
       "calendar_months  [{u'name': u'March', u'condition_ranges': [{u'...   \n",
       "metadata                                                        {}   \n",
       "\n",
       "                                                          10418854  \\\n",
       "calendar_months  [{u'name': u'March', u'condition_ranges': [{u'...   \n",
       "metadata                                                        {}   \n",
       "\n",
       "                                                          10527364  \\\n",
       "calendar_months  [{u'name': u'March', u'condition_ranges': [{u'...   \n",
       "metadata                                                        {}   \n",
       "\n",
       "                                                          10552237  \\\n",
       "calendar_months  [{u'name': u'March', u'condition_ranges': [{u'...   \n",
       "metadata                                                        {}   \n",
       "\n",
       "                                                          10627716  \\\n",
       "calendar_months  [{u'name': u'March', u'condition_ranges': [{u'...   \n",
       "metadata                                                        {}   \n",
       "\n",
       "                                       ...                          \\\n",
       "calendar_months                        ...                           \n",
       "metadata                               ...                           \n",
       "\n",
       "                                                          9790421   \\\n",
       "calendar_months  [{u'name': u'March', u'condition_ranges': [{u'...   \n",
       "metadata                                                        {}   \n",
       "\n",
       "                                                          9826392   \\\n",
       "calendar_months  [{u'name': u'March', u'condition_ranges': [{u'...   \n",
       "metadata                                                        {}   \n",
       "\n",
       "                                                          9857572   \\\n",
       "calendar_months  [{u'name': u'March', u'condition_ranges': [{u'...   \n",
       "metadata                                                        {}   \n",
       "\n",
       "                                                          9885963   \\\n",
       "calendar_months  [{u'name': u'March', u'condition_ranges': [{u'...   \n",
       "metadata                                                        {}   \n",
       "\n",
       "                                                          9887215   \\\n",
       "calendar_months  [{u'name': u'March', u'condition_ranges': [{u'...   \n",
       "metadata                                                        {}   \n",
       "\n",
       "                                                          990668    \\\n",
       "calendar_months  [{u'name': u'March', u'condition_ranges': [{u'...   \n",
       "metadata                                                        {}   \n",
       "\n",
       "                                                          9917358   \\\n",
       "calendar_months  [{u'name': u'March', u'condition_ranges': [{u'...   \n",
       "metadata                                                        {}   \n",
       "\n",
       "                                                          9926796   \\\n",
       "calendar_months  [{u'name': u'March', u'condition_ranges': [{u'...   \n",
       "metadata                                                        {}   \n",
       "\n",
       "                                                          9933886   \\\n",
       "calendar_months  [{u'name': u'March', u'condition_ranges': [{u'...   \n",
       "metadata                                                        {}   \n",
       "\n",
       "                                                          9972882   \n",
       "calendar_months  [{u'name': u'March', u'condition_ranges': [{u'...  \n",
       "metadata                                                        {}  \n",
       "\n",
       "[2 rows x 264 columns]"
      ]
     },
     "execution_count": 59,
     "metadata": {},
     "output_type": "execute_result"
    }
   ],
   "source": [
    "calendars = pd.read_json('/Users/Elena/Desktop/AirBnb/AirbnbScrape/calendars.json')\n",
    "calendars"
   ]
  },
  {
   "cell_type": "code",
   "execution_count": 58,
   "metadata": {
    "collapsed": false
   },
   "outputs": [],
   "source": [
    "calendars[10627716.0]['calendar_months']"
   ]
  },
  {
   "cell_type": "code",
   "execution_count": 61,
   "metadata": {
    "collapsed": false
   },
   "outputs": [],
   "source": [
    "def parse_calendar(list_calendar):\n",
    "    date = []\n",
    "    price_USD = []\n",
    "    availability = []\n",
    "    for month in list_calendar['calendar_months']:\n",
    "        for day in month['days']:\n",
    "            date.append(day['date'])\n",
    "            price_USD.append(day['price']['native_price'])\n",
    "            availability.append(day['available'])\n",
    "    return pd.DataFrame({'date':date, 'price_USD': price_USD, 'availability':availability})"
   ]
  },
  {
   "cell_type": "code",
   "execution_count": 62,
   "metadata": {
    "collapsed": false
   },
   "outputs": [],
   "source": [
    "parsed_calendars = {}\n",
    "for i in calendars.keys():\n",
    "    parsed_calendars[i] = parse_calendar(calendars[i])"
   ]
  },
  {
   "cell_type": "code",
   "execution_count": 92,
   "metadata": {
    "collapsed": true
   },
   "outputs": [],
   "source": [
    "def find_orphans(cal, length):\n",
    "    orphan_start = []\n",
    "    orphan_end = []\n",
    "    orphan_price = []\n",
    "\n",
    "    index = 0\n",
    "    while index < len(cal['availability']) - 3:\n",
    "        count = 0\n",
    "        start = index\n",
    "        while cal['availability'][index] == True and count < length:\n",
    "            count += 1\n",
    "            if count >= length and cal['availability'][index + 1] == False:\n",
    "                orphan_start.append(cal['date'][start])\n",
    "                orphan_end.append(cal['date'][index])\n",
    "                if length == 1:\n",
    "                    orphan_price.append(cal['price_USD'][start])\n",
    "                else:\n",
    "                    orphan_price.append(np.mean(cal['price_USD'][start: index]))\n",
    "                break\n",
    "            index += 1\n",
    "        index += 1\n",
    "\n",
    "    return pd.DataFrame({'Start': orphan_start, 'End': orphan_end, 'Price': orphan_price})"
   ]
  },
  {
   "cell_type": "markdown",
   "metadata": {},
   "source": [
    "## 1. Get variance of prices "
   ]
  },
  {
   "cell_type": "code",
   "execution_count": 65,
   "metadata": {
    "collapsed": true
   },
   "outputs": [],
   "source": [
    "def listings_price_var(calendars):\n",
    "    listings_var = {}\n",
    "    for i in parsed_calendars.keys():\n",
    "        listings_var[i] = np.std(parsed_calendars[i]['price_USD'])\n",
    "    return listings_var"
   ]
  },
  {
   "cell_type": "code",
   "execution_count": 67,
   "metadata": {
    "collapsed": true
   },
   "outputs": [],
   "source": [
    "import seaborn as sns\n",
    "sns.set(color_codes=True)"
   ]
  },
  {
   "cell_type": "code",
   "execution_count": 72,
   "metadata": {
    "collapsed": false
   },
   "outputs": [
    {
     "data": {
      "text/plain": [
       "<matplotlib.text.Text at 0x130014150>"
      ]
     },
     "execution_count": 72,
     "metadata": {},
     "output_type": "execute_result"
    },
    {
     "data": {
      "image/png": "[encoded data removed]",
      "text/plain": [
       "<matplotlib.figure.Figure at 0x13001cc50>"
      ]
     },
     "metadata": {},
     "output_type": "display_data"
    }
   ],
   "source": [
    "# print parsed_calendars\n",
    "# print find_orphans(parsed_calendars, 3)\n",
    "listing_var = listings_price_var(calendars)\n",
    "# plt.hist(listing_var.values())\n",
    "sns.distplot(listing_var.values(), bins=20, kde=False, rug=True);\n",
    "sns.axlabel('Price Std', 'Number of Listings')\n",
    "sns.plt.title('Listing Price Variance Distribution')\n"
   ]
  },
  {
   "cell_type": "markdown",
   "metadata": {},
   "source": [
    "\n",
    "## Find the distribution of orphan's day"
   ]
  },
  {
   "cell_type": "code",
   "execution_count": 89,
   "metadata": {
    "collapsed": false
   },
   "outputs": [
    {
     "data": {
      "text/plain": [
       "['b']"
      ]
     },
     "execution_count": 89,
     "metadata": {},
     "output_type": "execute_result"
    }
   ],
   "source": [
    "Orphans_dict = defaultdict(int)\n",
    "Orphans_dict['b'] += 1\n",
    "Orphans_dict.keys()"
   ]
  },
  {
   "cell_type": "code",
   "execution_count": 101,
   "metadata": {
    "collapsed": false
   },
   "outputs": [
    {
     "name": "stdout",
     "output_type": "stream",
     "text": [
      "866 513 302\n"
     ]
    }
   ],
   "source": [
    "num_1d = 0\n",
    "num_2d = 0\n",
    "num_3d = 0\n",
    "\n",
    "Orphans_dict = defaultdict(int)\n",
    "for i in parsed_calendars.keys():\n",
    "    one = find_orphans(parsed_calendars[i], 1)\n",
    "    two = find_orphans(parsed_calendars[i], 2)\n",
    "    three = find_orphans(parsed_calendars[i], 3)\n",
    "    \n",
    "    num_1d += len(one)\n",
    "    num_2d += len(two)\n",
    "    num_3d += len(three)\n",
    "    \n",
    "    for i in one['Start']:\n",
    "        Orphans_dict[i] += 1\n",
    "    for i in two['Start']:\n",
    "        Orphans_dict[i] += 1\n",
    "    for i in three['Start']:\n",
    "        Orphans_dict[i] += 1\n",
    "        \n",
    "print num_1d, num_2d, num_3d"
   ]
  },
  {
   "cell_type": "code",
   "execution_count": 102,
   "metadata": {
    "collapsed": false
   },
   "outputs": [
    {
     "data": {
      "text/plain": [
       "[u'2016-02-28',\n",
       " u'2016-02-29',\n",
       " u'2016-03-01',\n",
       " u'2016-03-02',\n",
       " u'2016-03-03',\n",
       " u'2016-03-04',\n",
       " u'2016-03-05',\n",
       " u'2016-03-06',\n",
       " u'2016-03-07',\n",
       " u'2016-03-08',\n",
       " u'2016-03-09',\n",
       " u'2016-03-10',\n",
       " u'2016-03-11',\n",
       " u'2016-03-12',\n",
       " u'2016-03-13',\n",
       " u'2016-03-14',\n",
       " u'2016-03-15',\n",
       " u'2016-03-16',\n",
       " u'2016-03-17',\n",
       " u'2016-03-18',\n",
       " u'2016-03-19',\n",
       " u'2016-03-20',\n",
       " u'2016-03-21',\n",
       " u'2016-03-22',\n",
       " u'2016-03-23',\n",
       " u'2016-03-24',\n",
       " u'2016-03-25',\n",
       " u'2016-03-26',\n",
       " u'2016-03-27',\n",
       " u'2016-03-28',\n",
       " u'2016-03-29',\n",
       " u'2016-03-30',\n",
       " u'2016-03-31',\n",
       " u'2016-04-01',\n",
       " u'2016-04-02',\n",
       " u'2016-04-03',\n",
       " u'2016-04-04',\n",
       " u'2016-04-05',\n",
       " u'2016-04-06',\n",
       " u'2016-04-07',\n",
       " u'2016-04-08',\n",
       " u'2016-04-09',\n",
       " u'2016-04-10',\n",
       " u'2016-04-11',\n",
       " u'2016-04-12',\n",
       " u'2016-04-13',\n",
       " u'2016-04-14',\n",
       " u'2016-04-15',\n",
       " u'2016-04-16',\n",
       " u'2016-04-17',\n",
       " u'2016-04-18',\n",
       " u'2016-04-19',\n",
       " u'2016-04-20',\n",
       " u'2016-04-21',\n",
       " u'2016-04-22',\n",
       " u'2016-04-23',\n",
       " u'2016-04-24',\n",
       " u'2016-04-25',\n",
       " u'2016-04-26',\n",
       " u'2016-04-27',\n",
       " u'2016-04-28',\n",
       " u'2016-04-29',\n",
       " u'2016-04-30',\n",
       " u'2016-05-01',\n",
       " u'2016-05-02',\n",
       " u'2016-05-03',\n",
       " u'2016-05-04',\n",
       " u'2016-05-05',\n",
       " u'2016-05-06',\n",
       " u'2016-05-07',\n",
       " u'2016-05-08',\n",
       " u'2016-05-09',\n",
       " u'2016-05-10',\n",
       " u'2016-05-11',\n",
       " u'2016-05-12',\n",
       " u'2016-05-13',\n",
       " u'2016-05-14',\n",
       " u'2016-05-15',\n",
       " u'2016-05-16',\n",
       " u'2016-05-17',\n",
       " u'2016-05-18',\n",
       " u'2016-05-19',\n",
       " u'2016-05-20',\n",
       " u'2016-05-21',\n",
       " u'2016-05-22',\n",
       " u'2016-05-23',\n",
       " u'2016-05-24',\n",
       " u'2016-05-25',\n",
       " u'2016-05-26',\n",
       " u'2016-05-27',\n",
       " u'2016-05-28',\n",
       " u'2016-05-29',\n",
       " u'2016-05-30',\n",
       " u'2016-05-31',\n",
       " u'2016-06-01']"
      ]
     },
     "execution_count": 102,
     "metadata": {},
     "output_type": "execute_result"
    }
   ],
   "source": [
    "import collections\n",
    "o_Orphans_dict = collections.OrderedDict(sorted(Orphans_dict.items()))\n",
    "o_Orphans_dict.keys()"
   ]
  },
  {
   "cell_type": "code",
   "execution_count": 126,
   "metadata": {
    "collapsed": false
   },
   "outputs": [
    {
     "data": {
      "text/plain": [
       "<module 'matplotlib.pyplot' from '/usr/local/lib/python2.7/site-packages/matplotlib/pyplot.pyc'>"
      ]
     },
     "execution_count": 126,
     "metadata": {},
     "output_type": "execute_result"
    },
    {
     "data": {
      "image/png": "[encoded data removed]",
      "text/plain": [
       "<matplotlib.figure.Figure at 0x1272c3290>"
      ]
     },
     "metadata": {},
     "output_type": "display_data"
    }
   ],
   "source": [
    "sns.barplot(o_Orphans_dict.keys()[:30], o_Orphans_dict.values()[:30])\n",
    "sns.plt.title('Number of Orphan\\'s day Distributed on Timeline' )\n",
    "sns.axlabel(\"Start Date\",\"Number of Orphan's Day\")\n",
    "plt.xticks(rotation=75)\n"
   ]
  },
  {
   "cell_type": "markdown",
   "metadata": {},
   "source": []
  },
  {
   "cell_type": "code",
   "execution_count": 130,
   "metadata": {
    "collapsed": false
   },
   "outputs": [
    {
     "data": {
      "image/png": "[encoded data removed]",
      "text/plain": [
       "<matplotlib.figure.Figure at 0x124cc5c50>"
      ]
     },
     "metadata": {},
     "output_type": "display_data"
    }
   ],
   "source": [
    "y = [24, 5, 4, 11, 7, 6, 5, 8, 8, 12, 4, 5, 5, 10, 9, 9, 8, 8, 11, 6, 7, 5, 6, 6, 5, 9, 5, 11, 6, 39]\n",
    "x = [0, 1, 2, 3, 4, 5, 6, 7, 8, 9, 10, 11, 12, 13, 14, 15, 16, 17, 18, 19, 20, 21, 22, 23, 24, 25, 26, 27, 28, 29]\n",
    "sns.barplot(x, y)\n",
    "sns.plt.title('Finding Professional Hosts' )\n",
    "sns.axlabel(\"Number of Booked Days in One Month\",\"Number of Hosts\")\n"
   ]
  },
  {
   "cell_type": "markdown",
   "metadata": {},
   "source": [
    "## Finding Professional Host by Looking at Their Booking Rate"
   ]
  },
  {
   "cell_type": "code",
   "execution_count": null,
   "metadata": {
    "collapsed": true
   },
   "outputs": [],
   "source": []
  }
 ],
 "metadata": {
  "kernelspec": {
   "display_name": "Python 2",
   "language": "python",
   "name": "python2"
  },
  "language_info": {
   "codemirror_mode": {
    "name": "ipython",
    "version": 2
   },
   "file_extension": ".py",
   "mimetype": "text/x-python",
   "name": "python",
   "nbconvert_exporter": "python",
   "pygments_lexer": "ipython2",
   "version": "2.7.11"
  }
 },
 "nbformat": 4,
 "nbformat_minor": 0
}
